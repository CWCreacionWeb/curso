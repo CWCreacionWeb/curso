{
 "cells": [
  {
   "cell_type": "markdown",
   "metadata": {},
   "source": [
    "## Instrucciones para el Laboratorio\n",
    "\n",
    "Para cada ejercicio del laboratorio, se requiere seguir estos pasos:\n",
    "\n",
    "1. **Desarrollo del Pseudocódigo**: Antes de comenzar a programar, elabora un pseudocódigo para cada solución. El pseudocódigo debe detallar la lógica y los pasos necesarios para resolver el problema de manera clara y estructurada. Esto te ayudará a comprender mejor la solución antes de codificarla.\n",
    "\n",
    "2. **Implementación del Programa**: Una vez que tengas el pseudocódigo listo y revisado, procede a programar la solución en Python. Asegúrate de que tu código siga la lógica que has definido en el pseudocódigo y cumpla con los requisitos especificados en cada ejercicio.\n",
    "\n",
    "Recuerda que una buena planificación a través del pseudocódigo facilitará el proceso de programación y te permitirá identificar posibles errores antes de implementar el código."
   ]
  },
  {
   "cell_type": "markdown",
   "metadata": {},
   "source": [
    "## Ejercicio: Transformación de Palabras\n",
    "\n",
    "Dada la lista de palabras:"
   ]
  },
  {
   "cell_type": "code",
   "execution_count": 1,
   "metadata": {},
   "outputs": [],
   "source": [
    "words = ['play', 'filling', 'bar', 'theatre', 'easygoing', 'date', 'lead', 'that', 'story',  'island']"
   ]
  },
  {
   "cell_type": "markdown",
   "metadata": {},
   "source": [
    "1. **Imprimir Letras Mayúsculas**: Escribe un programa que imprima todas las letras de cada palabra en la lista en mayúsculas, separando cada letra por una coma."
   ]
  },
  {
   "cell_type": "code",
   "execution_count": null,
   "metadata": {},
   "outputs": [],
   "source": [
    "# tu pseudocodigo aquí\n",
    "# Recorro la lista cambiando el valor de cada elemento a mayuscula con la funcion .upper\n",
    "# for i in words :\n",
    "    # words[i] = words[i].upper()\n",
    "\n"
   ]
  },
  {
   "cell_type": "code",
   "execution_count": 33,
   "metadata": {},
   "outputs": [
    {
     "name": "stdout",
     "output_type": "stream",
     "text": [
      "['PLAY', 'FILLING', 'BAR', 'THEATRE', 'EASYGOING', 'DATE', 'LEAD', 'THAT', 'STORY', 'ISLAND']\n"
     ]
    }
   ],
   "source": [
    "# tu codigo aquí\n",
    "cont = 0\n",
    "for i in words :\n",
    "    words[cont] = i.upper()\n",
    "    cont+=1\n",
    "\n",
    "print(words)"
   ]
  },
  {
   "cell_type": "markdown",
   "metadata": {},
   "source": [
    "2. **Crear una Nueva Lista**: Genera una nueva lista que contenga solo las palabras que tengan 5 o más letras. Luego, imprime esta nueva lista."
   ]
  },
  {
   "cell_type": "code",
   "execution_count": null,
   "metadata": {},
   "outputs": [],
   "source": [
    "# tu pseudocodigo aquí\n",
    "# Declaro una nueva lista\n",
    "# listanueva = []\n",
    "# Conu un bucle for recorro los elementos y cuento las letras de cada 1\n",
    "# Con un if compruebo si tienen 5 o mas letras y si es asi lo guardo en la nueva lista\n",
    "# e imprimo"
   ]
  },
  {
   "cell_type": "code",
   "execution_count": 14,
   "metadata": {},
   "outputs": [
    {
     "name": "stdout",
     "output_type": "stream",
     "text": [
      "['filling', 'theatre', 'easygoing', 'story', 'island']\n"
     ]
    }
   ],
   "source": [
    "# tu codigo aquí\n",
    "listanueva = []\n",
    "leng = 0\n",
    "for i in words : \n",
    "    if len(i) >= 5:\n",
    "        listanueva.append(i)\n",
    "\n",
    "print(listanueva)"
   ]
  },
  {
   "cell_type": "markdown",
   "metadata": {},
   "source": [
    "3. **Encontrar Palabras que Comienzan con 't'**: Imprime la primera palabra en la lista que comience con la letra 't'. Si no hay ninguna, imprime un mensaje indicando que no se encontró ninguna palabra que empiece con 't'."
   ]
  },
  {
   "cell_type": "code",
   "execution_count": null,
   "metadata": {},
   "outputs": [],
   "source": [
    "# tu pseudocodigo aquí\n",
    "# Con un bucle for recorro todos los elementos y me quedo con la primera letra\n",
    "#  Luego con un if comparo si esta letra es igual a \"t\"\n"
   ]
  },
  {
   "cell_type": "code",
   "execution_count": 95,
   "metadata": {},
   "outputs": [
    {
     "name": "stdout",
     "output_type": "stream",
     "text": [
      "theatre Si contiene la letra t\n"
     ]
    }
   ],
   "source": [
    "words = ['play', 'filling', 'bar', 'theatre', 'easygoing', 'date', 'lead', 'that', 'story',  'island']\n",
    "letra = 't'\n",
    "for l in words : \n",
    "    if l[0] == letra : \n",
    "        print(f\"{l} Si contiene la letra {letra}\")\n",
    "        # break opcional si no queremos continuar con la búsqueda"
   ]
  },
  {
   "cell_type": "markdown",
   "metadata": {},
   "source": [
    "4. **Contar las Vocales**: Escribe un programa que cuente y imprima el número total de vocales en todas las palabras de la lista."
   ]
  },
  {
   "cell_type": "code",
   "execution_count": null,
   "metadata": {},
   "outputs": [],
   "source": [
    "# tu pseudocodigo aquí\n",
    "# Creo una lista nueva con las vocales\n",
    "# COn un for recorro la lista y por cada elemento lo recorro con otro for para conseguir cada letra\n",
    "# Comparo si esa letra está en la lista vocales"
   ]
  },
  {
   "cell_type": "code",
   "execution_count": 32,
   "metadata": {},
   "outputs": [
    {
     "name": "stdout",
     "output_type": "stream",
     "text": [
      "a es una vocal\n",
      "i es una vocal\n",
      "i es una vocal\n",
      "a es una vocal\n",
      "e es una vocal\n",
      "a es una vocal\n",
      "e es una vocal\n",
      "e es una vocal\n",
      "a es una vocal\n",
      "o es una vocal\n",
      "i es una vocal\n",
      "a es una vocal\n",
      "e es una vocal\n",
      "e es una vocal\n",
      "a es una vocal\n",
      "a es una vocal\n",
      "o es una vocal\n",
      "i es una vocal\n",
      "a es una vocal\n"
     ]
    }
   ],
   "source": [
    "vocales = ['a','e','i','o','u']\n",
    "\n",
    "for clave in words : \n",
    "    for i in clave :\n",
    "        if i in vocales:\n",
    "            print(f\"{i} es una vocal\")"
   ]
  },
  {
   "cell_type": "markdown",
   "metadata": {},
   "source": [
    "5. **Palabras que Contienen la Letra 'a'**: Crea una nueva lista que contenga solo las palabras que tengan la letra 'a'. Imprime esta nueva lista."
   ]
  },
  {
   "cell_type": "code",
   "execution_count": null,
   "metadata": {},
   "outputs": [],
   "source": [
    "# tu pseudocodigo aquí\n",
    "# Declaro nueva variable\n",
    "#  Recorro con un for la lista words\n",
    "# Creo variable vocal\n",
    "# Creo otro for para recorrer el elemento y comparar la letra si es igual a la variable vocal\n"
   ]
  },
  {
   "cell_type": "code",
   "execution_count": 29,
   "metadata": {},
   "outputs": [
    {
     "name": "stdout",
     "output_type": "stream",
     "text": [
      "['play', 'bar', 'theatre', 'easygoing', 'date', 'lead', 'that', 'island']\n"
     ]
    }
   ],
   "source": [
    "\n",
    "vocal = 'a'\n",
    "listanueva = []\n",
    "for palabra in words : \n",
    "    for i in palabra :\n",
    "        if i == vocal:\n",
    "            listanueva.append(palabra)\n",
    "\n",
    "print(listanueva)"
   ]
  },
  {
   "cell_type": "markdown",
   "metadata": {},
   "source": [
    "6. **Palabras en Orden Inverso**: Imprime la lista de palabras en orden inverso, de la última a la primera."
   ]
  },
  {
   "cell_type": "code",
   "execution_count": null,
   "metadata": {},
   "outputs": [],
   "source": [
    "# tu pseudocodigo aquí\n"
   ]
  },
  {
   "cell_type": "code",
   "execution_count": 50,
   "metadata": {},
   "outputs": [
    {
     "name": "stdout",
     "output_type": "stream",
     "text": [
      "['ISLAND', 'STORY', 'THAT', 'LEAD', 'DATE', 'EASYGOING', 'THEATRE', 'BAR', 'FILLING', 'PLAY']\n"
     ]
    }
   ],
   "source": [
    "# tu aquí\n",
    "print(words[::-1])"
   ]
  },
  {
   "cell_type": "markdown",
   "metadata": {},
   "source": [
    "## Numeros Primos"
   ]
  },
  {
   "cell_type": "markdown",
   "metadata": {},
   "source": [
    "1. **Lista de Números Primos**: \n",
    "   Crea una lista que contenga los números primos entre 1 y 20. Imprime la lista."
   ]
  },
  {
   "cell_type": "code",
   "execution_count": null,
   "metadata": {},
   "outputs": [],
   "source": [
    "# tu pseudocodigo aquí\n",
    "# Creamos la lista numeros_primos\n",
    "# Creamos un for con un range(2,22) para evitar el 0\n",
    "# Hacemos el if con la operacion\n",
    "# Si es true imprimimos"
   ]
  },
  {
   "cell_type": "code",
   "execution_count": 99,
   "metadata": {},
   "outputs": [
    {
     "name": "stdout",
     "output_type": "stream",
     "text": [
      "3 es un numero primo\n",
      "5 es un numero primo\n",
      "7 es un numero primo\n",
      "9 es un numero primo\n",
      "11 es un numero primo\n",
      "13 es un numero primo\n",
      "15 es un numero primo\n",
      "17 es un numero primo\n",
      "19 es un numero primo\n",
      "[3, 5, 7, 9, 11, 13, 15, 17, 19]\n"
     ]
    }
   ],
   "source": [
    "# tu codigo aquí\n",
    "numeros_primos = []\n",
    "numero = 0\n",
    "for numero in range(2,21) : \n",
    "    # print(numero % 2)\n",
    "    if numero % 2 != 0: \n",
    "        print(f\"{numero} es un numero primo\")\n",
    "        numeros_primos.append(numero)\n",
    "\n",
    "print(numeros_primos)\n",
    "    "
   ]
  },
  {
   "cell_type": "markdown",
   "metadata": {},
   "source": [
    "2. **Contar Números Primos**: \n",
    "   Escribe un programa que cuente cuántos números primos hay entre 1 y 30. Imprime el total."
   ]
  },
  {
   "cell_type": "code",
   "execution_count": null,
   "metadata": {},
   "outputs": [],
   "source": [
    "# tu pseudocodigo aquí"
   ]
  },
  {
   "cell_type": "code",
   "execution_count": 82,
   "metadata": {},
   "outputs": [
    {
     "name": "stdout",
     "output_type": "stream",
     "text": [
      "Hay un total de 0 numeros primos\n"
     ]
    }
   ],
   "source": [
    "# tu codigo aquí\n",
    "conteo  = 0\n",
    "for numero in range(1,31):\n",
    "    if numero % 2 :\n",
    "        conteo +=conteo\n",
    "\n",
    "print(f\"Hay un total de {conteo} numeros primos\")"
   ]
  },
  {
   "cell_type": "markdown",
   "metadata": {},
   "source": [
    "3. **Suma de Números Primos**: \n",
    "   Crea un programa que calcule la suma de los números primos menores de 50 y la imprima."
   ]
  },
  {
   "cell_type": "code",
   "execution_count": null,
   "metadata": {},
   "outputs": [],
   "source": [
    "# tu pseudocodigo aquí"
   ]
  },
  {
   "cell_type": "code",
   "execution_count": null,
   "metadata": {},
   "outputs": [],
   "source": [
    "# tu codigo aquí"
   ]
  },
  {
   "cell_type": "markdown",
   "metadata": {},
   "source": [
    "4. **Verificar si un Número es Primo**: \n",
    "   Escribe un programa que pida al usuario un número y que determine si es primo. Imprime un mensaje indicando si el número es primo o no."
   ]
  },
  {
   "cell_type": "code",
   "execution_count": null,
   "metadata": {},
   "outputs": [],
   "source": [
    "# tu pseudocodigo aquí"
   ]
  },
  {
   "cell_type": "code",
   "execution_count": null,
   "metadata": {},
   "outputs": [],
   "source": [
    "# tu codigo aquí"
   ]
  },
  {
   "cell_type": "markdown",
   "metadata": {},
   "source": [
    "5. **Primos Menores a un Número**: \n",
    "   Crea un programa que pida al usuario un número y que imprima todos los números primos menores que ese número."
   ]
  },
  {
   "cell_type": "code",
   "execution_count": null,
   "metadata": {},
   "outputs": [],
   "source": [
    "# tu pseudocodigo aquí"
   ]
  },
  {
   "cell_type": "code",
   "execution_count": null,
   "metadata": {},
   "outputs": [],
   "source": [
    "# tu codigo aquí"
   ]
  },
  {
   "cell_type": "markdown",
   "metadata": {},
   "source": [
    "6. **Lista de Primos en un Rango**: \n",
    "   Crea un programa que genere e imprima los números primos entre 10 y 50."
   ]
  },
  {
   "cell_type": "code",
   "execution_count": null,
   "metadata": {},
   "outputs": [],
   "source": [
    "# tu pseudocodigo aquí"
   ]
  },
  {
   "cell_type": "code",
   "execution_count": null,
   "metadata": {},
   "outputs": [],
   "source": [
    "# tu codigo aquí"
   ]
  },
  {
   "cell_type": "markdown",
   "metadata": {},
   "source": [
    "## People\n",
    "\n",
    "Dada la siguiente lista de personas:"
   ]
  },
  {
   "cell_type": "code",
   "execution_count": 5,
   "metadata": {},
   "outputs": [],
   "source": [
    "people = [\n",
    "    {\n",
    "        \"name\": \"Juan\",\n",
    "        \"age\": 34,\n",
    "        \"n_kids\": 2,\n",
    "        \"city\": \"Madrid\"\n",
    "    },\n",
    "    {\n",
    "        \"name\": \"Pepe\",\n",
    "        \"age\": 27,\n",
    "        \"n_kids\": 0,\n",
    "        \"city\": \"Barcelona\"\n",
    "    },\n",
    "    {\n",
    "        \"name\": \"Sonia\",\n",
    "        \"age\": 41,\n",
    "        \"n_kids\": 1,\n",
    "        \"city\": \"Valencia\"\n",
    "    },\n",
    "    {\n",
    "        \"name\": \"Lucía\",\n",
    "        \"age\": 22,\n",
    "        \"n_kids\": 2,\n",
    "        \"city\": \"Sevilla\"\n",
    "    },\n",
    "    {\n",
    "        \"name\": \"Leo\",\n",
    "        \"age\": 55,\n",
    "        \"n_kids\": 5,\n",
    "        \"city\": \"Bilbao\"\n",
    "    },\n",
    "    {\n",
    "        \"name\": \"Marta\",\n",
    "        \"age\": 30,\n",
    "        \"n_kids\": 3,\n",
    "        \"city\": \"Zaragoza\"\n",
    "    },\n",
    "    {\n",
    "        \"name\": \"Carlos\",\n",
    "        \"age\": 45,\n",
    "        \"n_kids\": 0,\n",
    "        \"city\": \"Granada\"\n",
    "    }\n",
    "]"
   ]
  },
  {
   "cell_type": "markdown",
   "metadata": {},
   "source": [
    "1. **Contar Personas**: \n",
    "   Escribe un programa que cuente cuántas personas hay en la lista `people`. Imprime el total."
   ]
  },
  {
   "cell_type": "code",
   "execution_count": null,
   "metadata": {},
   "outputs": [],
   "source": [
    "# tu pseudocodigo aquí"
   ]
  },
  {
   "cell_type": "code",
   "execution_count": null,
   "metadata": {},
   "outputs": [],
   "source": [
    "# tu codigo aquí"
   ]
  },
  {
   "cell_type": "markdown",
   "metadata": {},
   "source": [
    "2. **Contar Personas con Hijos**: \n",
    "   Crea un programa que cuente cuántas personas tienen al menos un hijo. Imprime el número de estas personas."
   ]
  },
  {
   "cell_type": "code",
   "execution_count": null,
   "metadata": {},
   "outputs": [],
   "source": [
    "# tu pseudocodigo aquí"
   ]
  },
  {
   "cell_type": "code",
   "execution_count": null,
   "metadata": {},
   "outputs": [],
   "source": [
    "# tu codigo aquí"
   ]
  },
  {
   "cell_type": "markdown",
   "metadata": {},
   "source": [
    "3. **Contar Hijos Totales**: \n",
    "   Escribe un programa que calcule cuántos hijos hay en total entre todas las personas de la lista. Imprime el total."
   ]
  },
  {
   "cell_type": "code",
   "execution_count": null,
   "metadata": {},
   "outputs": [],
   "source": [
    "# tu pseudocodigo aquí"
   ]
  },
  {
   "cell_type": "code",
   "execution_count": null,
   "metadata": {},
   "outputs": [],
   "source": [
    "# tu codigo aquí"
   ]
  },
  {
   "cell_type": "markdown",
   "metadata": {},
   "source": [
    "4. **Promedio de Edad**: \n",
    "   Calcula y muestra la edad promedio de las personas en la lista."
   ]
  },
  {
   "cell_type": "code",
   "execution_count": null,
   "metadata": {},
   "outputs": [],
   "source": [
    "# tu pseudocodigo aquí"
   ]
  },
  {
   "cell_type": "code",
   "execution_count": null,
   "metadata": {},
   "outputs": [],
   "source": [
    "# tu codigo aquí"
   ]
  },
  {
   "cell_type": "markdown",
   "metadata": {},
   "source": [
    "5. **Lista de Personas que Terminan en 'a'**: \n",
    "   Genera una lista con los nombres de las personas cuyo nombre termina en \"a\". Imprime esta lista."
   ]
  },
  {
   "cell_type": "code",
   "execution_count": null,
   "metadata": {},
   "outputs": [],
   "source": [
    "# tu pseudocodigo aquí"
   ]
  },
  {
   "cell_type": "code",
   "execution_count": null,
   "metadata": {},
   "outputs": [],
   "source": [
    "# tu codigo aquí"
   ]
  },
  {
   "cell_type": "markdown",
   "metadata": {},
   "source": [
    "6. **Actualizar Información por Año**: \n",
    "   En un año, las personas cuyos nombres terminan en \"a\" tendrán un niño extra. Crea una nueva lista de diccionarios con la información actualizada de las personas (edad incrementada en 1 y `n_kids` aumentado en 1 para las que terminan en \"a\"). Imprime esta nueva lista."
   ]
  },
  {
   "cell_type": "code",
   "execution_count": null,
   "metadata": {},
   "outputs": [],
   "source": [
    "# tu pseudocodigo aquí"
   ]
  },
  {
   "cell_type": "code",
   "execution_count": null,
   "metadata": {},
   "outputs": [],
   "source": [
    "# tu codigo aquí"
   ]
  }
 ],
 "metadata": {
  "kernelspec": {
   "display_name": "Python 3 (ipykernel)",
   "language": "python",
   "name": "python3"
  },
  "language_info": {
   "codemirror_mode": {
    "name": "ipython",
    "version": 3
   },
   "file_extension": ".py",
   "mimetype": "text/x-python",
   "name": "python",
   "nbconvert_exporter": "python",
   "pygments_lexer": "ipython3",
   "version": "3.10.12"
  },
  "toc": {
   "base_numbering": 1,
   "nav_menu": {},
   "number_sections": false,
   "sideBar": true,
   "skip_h1_title": false,
   "title_cell": "Table of Contents",
   "title_sidebar": "Contents",
   "toc_cell": false,
   "toc_position": {},
   "toc_section_display": true,
   "toc_window_display": true
  },
  "varInspector": {
   "cols": {
    "lenName": 16,
    "lenType": 16,
    "lenVar": 40
   },
   "kernels_config": {
    "python": {
     "delete_cmd_postfix": "",
     "delete_cmd_prefix": "del ",
     "library": "var_list.py",
     "varRefreshCmd": "print(var_dic_list())"
    },
    "r": {
     "delete_cmd_postfix": ") ",
     "delete_cmd_prefix": "rm(",
     "library": "var_list.r",
     "varRefreshCmd": "cat(var_dic_list()) "
    }
   },
   "types_to_exclude": [
    "module",
    "function",
    "builtin_function_or_method",
    "instance",
    "_Feature"
   ],
   "window_display": false
  },
  "vscode": {
   "interpreter": {
    "hash": "aee8b7b246df8f9039afb4144a1f6fd8d2ca17a180786b69acc140d282b71a49"
   }
  }
 },
 "nbformat": 4,
 "nbformat_minor": 4
}
